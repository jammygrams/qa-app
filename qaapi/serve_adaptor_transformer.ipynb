{
  "nbformat": 4,
  "nbformat_minor": 0,
  "metadata": {
    "colab": {
      "provenance": [],
      "machine_shape": "hm",
      "authorship_tag": "ABX9TyMJerYldMuFEMr/Cd3+/I1p",
      "include_colab_link": true
    },
    "kernelspec": {
      "name": "python3",
      "display_name": "Python 3"
    },
    "language_info": {
      "name": "python"
    },
    "gpuClass": "premium"
  },
  "cells": [
    {
      "cell_type": "markdown",
      "metadata": {
        "id": "view-in-github",
        "colab_type": "text"
      },
      "source": [
        "<a href=\"https://colab.research.google.com/github/jammygrams/qa-app/blob/main/qaapi/serve_adaptor_transformer.ipynb\" target=\"_parent\"><img src=\"https://colab.research.google.com/assets/colab-badge.svg\" alt=\"Open In Colab\"/></a>"
      ]
    },
    {
      "cell_type": "code",
      "source": [
        "# !pip install colabcode\n",
        "# !pip install fastapi\n",
        "# !pip install adapter-transformers==2.2.0\n",
        "# !pip install python-dotenv"
      ],
      "metadata": {
        "id": "H52woO-QqWOh"
      },
      "execution_count": 39,
      "outputs": []
    },
    {
      "cell_type": "code",
      "source": [
        "from google.colab import drive\n",
        "drive.mount('/content/gdrive/')"
      ],
      "metadata": {
        "colab": {
          "base_uri": "https://localhost:8080/"
        },
        "id": "3n8IAOyTvMKt",
        "outputId": "fa50a273-ef9a-49b6-e59f-fa0628ed891d"
      },
      "execution_count": 1,
      "outputs": [
        {
          "output_type": "stream",
          "name": "stdout",
          "text": [
            "Drive already mounted at /content/gdrive/; to attempt to forcibly remount, call drive.mount(\"/content/gdrive/\", force_remount=True).\n"
          ]
        }
      ]
    },
    {
      "cell_type": "code",
      "source": [
        "%cd '/content/gdrive/MyDrive/Colab Notebooks/qa-app/'"
      ],
      "metadata": {
        "colab": {
          "base_uri": "https://localhost:8080/"
        },
        "id": "5zcgd6KEvPYu",
        "outputId": "75859b73-0ee0-44c7-e094-d9dc3d9ea80e"
      },
      "execution_count": 2,
      "outputs": [
        {
          "output_type": "stream",
          "name": "stdout",
          "text": [
            "/content/gdrive/MyDrive/Colab Notebooks/qa-app\n"
          ]
        }
      ]
    },
    {
      "cell_type": "code",
      "source": [
        "%pip install -r api/requirements.txt"
      ],
      "metadata": {
        "id": "REAq_KQgEdje"
      },
      "execution_count": null,
      "outputs": []
    },
    {
      "cell_type": "code",
      "source": [
        "import os\n",
        "from colabcode import ColabCode\n",
        "from dotenv import load_dotenv"
      ],
      "metadata": {
        "id": "tOjkg1zXqVzt"
      },
      "execution_count": 4,
      "outputs": []
    },
    {
      "cell_type": "code",
      "source": [
        "load_dotenv()\n",
        "NGROK_AUTH_TOKEN = os.environ.get(\"NGROK_AUTH_TOKEN\")"
      ],
      "metadata": {
        "id": "8MxzitNivD6r"
      },
      "execution_count": 5,
      "outputs": []
    },
    {
      "cell_type": "code",
      "source": [
        "cc = ColabCode(port=12000, code=False, authtoken=NGROK_AUTH_TOKEN)"
      ],
      "metadata": {
        "id": "ULGwTWtC4Om6"
      },
      "execution_count": 6,
      "outputs": []
    },
    {
      "cell_type": "code",
      "source": [
        "from qaapi.src.api import app"
      ],
      "metadata": {
        "id": "ruxGFZOeE3XL"
      },
      "execution_count": 7,
      "outputs": []
    },
    {
      "cell_type": "code",
      "source": [
        "cc.run_app(app=app)"
      ],
      "metadata": {
        "colab": {
          "base_uri": "https://localhost:8080/"
        },
        "id": "EWmQuyxqrg0v",
        "outputId": "1881bf7c-2628-4d98-d375-40e736d72b2a"
      },
      "execution_count": null,
      "outputs": [
        {
          "output_type": "stream",
          "name": "stderr",
          "text": [
            "INFO:     Started server process [2581]\n",
            "INFO:uvicorn.error:Started server process [2581]\n",
            "INFO:     Waiting for application startup.\n",
            "INFO:uvicorn.error:Waiting for application startup.\n"
          ]
        },
        {
          "output_type": "stream",
          "name": "stdout",
          "text": [
            "Public URL: NgrokTunnel: \"https://5385-34-91-64-246.ngrok.io\" -> \"http://localhost:12000\"\n"
          ]
        },
        {
          "output_type": "stream",
          "name": "stderr",
          "text": [
            "INFO:     Application startup complete.\n",
            "INFO:uvicorn.error:Application startup complete.\n",
            "INFO:     Uvicorn running on http://127.0.0.1:12000 (Press CTRL+C to quit)\n",
            "INFO:uvicorn.error:Uvicorn running on http://127.0.0.1:12000 (Press CTRL+C to quit)\n"
          ]
        },
        {
          "output_type": "stream",
          "name": "stdout",
          "text": [
            "INFO:     2a02:c7f:f07d:a00:f8ac:cdab:ed1:a2f:0 - \"POST /api HTTP/1.1\" 200 OK\n",
            "INFO:     2a02:c7f:f07d:a00:f8ac:cdab:ed1:a2f:0 - \"POST /api HTTP/1.1\" 200 OK\n"
          ]
        }
      ]
    }
  ]
}