{
  "cells": [
    {
      "cell_type": "markdown",
      "metadata": {
        "colab_type": "text",
        "id": "view-in-github"
      },
      "source": [
        "<a href=\"https://colab.research.google.com/github/jammygrams/qa-app/blob/main/qaapi/serve_adaptor_transformer.ipynb\" target=\"_parent\"><img src=\"https://colab.research.google.com/assets/colab-badge.svg\" alt=\"Open In Colab\"/></a>"
      ]
    },
    {
      "cell_type": "code",
      "execution_count": 1,
      "metadata": {
        "colab": {
          "base_uri": "https://localhost:8080/"
        },
        "id": "3n8IAOyTvMKt",
        "outputId": "fa50a273-ef9a-49b6-e59f-fa0628ed891d"
      },
      "outputs": [
        {
          "name": "stdout",
          "output_type": "stream",
          "text": [
            "Drive already mounted at /content/gdrive/; to attempt to forcibly remount, call drive.mount(\"/content/gdrive/\", force_remount=True).\n"
          ]
        }
      ],
      "source": [
        "from google.colab import drive\n",
        "drive.mount('/content/gdrive/')"
      ]
    },
    {
      "cell_type": "code",
      "execution_count": 2,
      "metadata": {
        "colab": {
          "base_uri": "https://localhost:8080/"
        },
        "id": "5zcgd6KEvPYu",
        "outputId": "75859b73-0ee0-44c7-e094-d9dc3d9ea80e"
      },
      "outputs": [
        {
          "name": "stdout",
          "output_type": "stream",
          "text": [
            "/content/gdrive/MyDrive/Colab Notebooks/qa-app\n"
          ]
        }
      ],
      "source": [
        "%cd '/content/gdrive/MyDrive/Colab Notebooks/qa-app/'"
      ]
    },
    {
      "cell_type": "code",
      "execution_count": null,
      "metadata": {
        "id": "REAq_KQgEdje"
      },
      "outputs": [],
      "source": [
        "%pip install -r qaapi/requirements.txt"
      ]
    },
    {
      "cell_type": "code",
      "execution_count": 4,
      "metadata": {
        "id": "tOjkg1zXqVzt"
      },
      "outputs": [],
      "source": [
        "import os\n",
        "from colabcode import ColabCode\n",
        "from dotenv import load_dotenv"
      ]
    },
    {
      "cell_type": "code",
      "execution_count": 5,
      "metadata": {
        "id": "8MxzitNivD6r"
      },
      "outputs": [],
      "source": [
        "load_dotenv()\n",
        "NGROK_AUTH_TOKEN = os.environ.get(\"NGROK_AUTH_TOKEN\")"
      ]
    },
    {
      "cell_type": "code",
      "execution_count": 6,
      "metadata": {
        "id": "ULGwTWtC4Om6"
      },
      "outputs": [],
      "source": [
        "cc = ColabCode(port=12000, code=False, authtoken=NGROK_AUTH_TOKEN)"
      ]
    },
    {
      "cell_type": "code",
      "execution_count": 7,
      "metadata": {
        "id": "ruxGFZOeE3XL"
      },
      "outputs": [],
      "source": [
        "from qaapi.src.api import app"
      ]
    },
    {
      "cell_type": "code",
      "execution_count": null,
      "metadata": {
        "colab": {
          "base_uri": "https://localhost:8080/"
        },
        "id": "EWmQuyxqrg0v",
        "outputId": "1881bf7c-2628-4d98-d375-40e736d72b2a"
      },
      "outputs": [
        {
          "name": "stderr",
          "output_type": "stream",
          "text": [
            "INFO:     Started server process [2581]\n",
            "INFO:uvicorn.error:Started server process [2581]\n",
            "INFO:     Waiting for application startup.\n",
            "INFO:uvicorn.error:Waiting for application startup.\n"
          ]
        },
        {
          "name": "stdout",
          "output_type": "stream",
          "text": [
            "Public URL: NgrokTunnel: \"https://5385-34-91-64-246.ngrok.io\" -> \"http://localhost:12000\"\n"
          ]
        },
        {
          "name": "stderr",
          "output_type": "stream",
          "text": [
            "INFO:     Application startup complete.\n",
            "INFO:uvicorn.error:Application startup complete.\n",
            "INFO:     Uvicorn running on http://127.0.0.1:12000 (Press CTRL+C to quit)\n",
            "INFO:uvicorn.error:Uvicorn running on http://127.0.0.1:12000 (Press CTRL+C to quit)\n"
          ]
        },
        {
          "name": "stdout",
          "output_type": "stream",
          "text": [
            "INFO:     2a02:c7f:f07d:a00:f8ac:cdab:ed1:a2f:0 - \"POST /api HTTP/1.1\" 200 OK\n",
            "INFO:     2a02:c7f:f07d:a00:f8ac:cdab:ed1:a2f:0 - \"POST /api HTTP/1.1\" 200 OK\n"
          ]
        }
      ],
      "source": [
        "cc.run_app(app=app)"
      ]
    }
  ],
  "metadata": {
    "colab": {
      "authorship_tag": "ABX9TyMJerYldMuFEMr/Cd3+/I1p",
      "include_colab_link": true,
      "machine_shape": "hm",
      "provenance": []
    },
    "gpuClass": "premium",
    "kernelspec": {
      "display_name": "Python 3.10.8 ('qa-app')",
      "language": "python",
      "name": "python3"
    },
    "language_info": {
      "name": "python",
      "version": "3.10.8"
    },
    "vscode": {
      "interpreter": {
        "hash": "6bfc0b513dfc8d38be57ae672e8a03cda741316a2037890c559dd5953761d817"
      }
    }
  },
  "nbformat": 4,
  "nbformat_minor": 0
}
